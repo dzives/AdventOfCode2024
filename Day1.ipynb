{
 "cells": [
  {
   "cell_type": "code",
   "execution_count": 10,
   "metadata": {},
   "outputs": [],
   "source": [
    "from aocd import get_data\n",
    "\n",
    "sample_data = \"\"\"3   4\n",
    "4   3\n",
    "2   5\n",
    "1   3\n",
    "3   9\n",
    "3   3\"\"\"\n",
    "\n",
    "def parse(sample=False):\n",
    "    if not sample:\n",
    "        x = get_data(day=1,year=2024)\n",
    "    else:\n",
    "        x = sample_data\n",
    "    x = x.splitlines()\n",
    "    y,z = [],[]\n",
    "    for i in x:\n",
    "        temp = i.split(\" \")\n",
    "        y.append(temp[0])\n",
    "        z.append(temp[len(temp)-1])\n",
    "\n",
    "    y = list(map(int, y))\n",
    "    z = list(map(int, z))\n",
    "    # PARSE THE INPUT\n",
    "    return y,z\n"
   ]
  },
  {
   "cell_type": "code",
   "execution_count": 14,
   "metadata": {},
   "outputs": [],
   "source": [
    "from collections import Counter\n",
    "\n",
    "\n",
    "def part1(sample=False):\n",
    "    y,z = parse(sample)\n",
    "    y.sort()\n",
    "    z.sort()\n",
    "    out = 0\n",
    "    for i in range(len(y)):\n",
    "        out += abs(y[i] - z[i])\n",
    "    return out\n",
    "\n",
    "def part2(sample=False):\n",
    "    left,right = parse(sample)\n",
    "    hash = Counter(right)\n",
    "    out = 0\n",
    "    for i in left:\n",
    "        out += i * hash[i]\n",
    "    return out"
   ]
  },
  {
   "cell_type": "code",
   "execution_count": 15,
   "metadata": {},
   "outputs": [
    {
     "name": "stdout",
     "output_type": "stream",
     "text": [
      "sample: \n",
      "\u001b[32mPart 1 sample is correct.\u001b[0m\n",
      "\u001b[32mPart 2 sample is correct.\u001b[0m\n",
      "Part 1: 11|Time: 0.000s\n",
      "Part 2: 31|Time: 0.000s\n",
      "input: \n",
      "Part 1: 1830467|Time: 0.005s\n",
      "Part 2: 26674158|Time: 0.001s\n"
     ]
    }
   ],
   "source": [
    "from time import time\n",
    "from termcolor import colored\n",
    "import os\n",
    "\n",
    "if __name__ == '__main__':\n",
    "    p1c = 11\n",
    "    p2c = 31\n",
    "    print(f'sample: ')\n",
    "    start = time()\n",
    "    p1r = part1(True)\n",
    "    end = time()\n",
    "    p1t = end-start\n",
    "    if p2c:\n",
    "        start = time()\n",
    "        p2r = part2(True)\n",
    "        end = time()\n",
    "        p2t = end-start\n",
    "    if p1c == p1r:\n",
    "        print(colored('Part 1 sample is correct.', 'green'))\n",
    "    else:\n",
    "        print(colored('Part 1 sample is incorrect.', 'red'))\n",
    "    if p2c is None:\n",
    "        print(colored('Part 2 sample is not defined.', 'yellow'))\n",
    "    elif p2c == p2r:\n",
    "        print(colored('Part 2 sample is correct.', 'green'))\n",
    "    else:\n",
    "        print(colored('Part 2 sample is incorrect.', 'red'))\n",
    "    print(f'Part 1: {p1r}|Time: {p1t:.3f}s')\n",
    "    if p2c:\n",
    "        print(f'Part 2: {p2r}|Time: {p2t:.3f}s')\n",
    "    print(f'input: ')\n",
    "    start = time()\n",
    "    p1r = part1(False)\n",
    "    end = time()\n",
    "    p1t = end-start\n",
    "    if p2c:\n",
    "        start = time()\n",
    "        p2r = part2(False)\n",
    "        end = time()\n",
    "        p2t = end-start\n",
    "    print(f'Part 1: {p1r}|Time: {p1t:.3f}s')\n",
    "    if p2c:\n",
    "        print(f'Part 2: {p2r}|Time: {p2t:.3f}s')"
   ]
  }
 ],
 "metadata": {
  "kernelspec": {
   "display_name": "Python 3",
   "language": "python",
   "name": "python3"
  },
  "language_info": {
   "codemirror_mode": {
    "name": "ipython",
    "version": 3
   },
   "file_extension": ".py",
   "mimetype": "text/x-python",
   "name": "python",
   "nbconvert_exporter": "python",
   "pygments_lexer": "ipython3",
   "version": "3.10.12"
  }
 },
 "nbformat": 4,
 "nbformat_minor": 2
}
