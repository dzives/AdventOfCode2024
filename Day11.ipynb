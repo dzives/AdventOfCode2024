{
 "cells": [
  {
   "cell_type": "code",
   "execution_count": 139,
   "metadata": {},
   "outputs": [],
   "source": [
    "from collections import defaultdict\n",
    "from aocd import get_data\n",
    "\n",
    "# https://adventofcode.com/2024/day/11\n",
    "sample_data = \"\"\"125 17\"\"\"\n",
    "\n",
    "def parse(sample=False):\n",
    "    if not sample:\n",
    "        x = get_data(day=11,year=2024)\n",
    "    else:\n",
    "        x = sample_data\n",
    "    y = list(map(int,x.split(\" \")))\n",
    "    z = defaultdict(int)\n",
    "    for i in y:\n",
    "        z[i] += 1\n",
    "    # PARSE THE INPUT\n",
    "    return z"
   ]
  },
  {
   "cell_type": "code",
   "execution_count": null,
   "metadata": {},
   "outputs": [],
   "source": [
    "import math\n",
    "from functools import cache\n",
    "\n",
    "@cache\n",
    "def split_number(n):\n",
    "    digits = int(math.log10(n)) + 1\n",
    "    half = digits // 2\n",
    "    divisor = 10 ** half\n",
    "    left = n // divisor\n",
    "    right = n % divisor\n",
    "    return left, right\n",
    "\n",
    "def solve(counts,blinks):\n",
    "    for blink in range(blinks):\n",
    "        new_counts = defaultdict(int)\n",
    "        for num, cnt in counts.items():\n",
    "            if num == 0:\n",
    "                new_counts[1] += cnt\n",
    "            elif len(str(num)) % 2 == 0:\n",
    "                left, right = split_number(num)\n",
    "                new_counts[left] += cnt\n",
    "                new_counts[right] += cnt\n",
    "            else:\n",
    "                new_num = num * 2024\n",
    "                new_counts[new_num] += cnt\n",
    "        counts = new_counts \n",
    "    return sum([x for x in counts.values()])\n",
    "\n",
    "def part1(sample=False):\n",
    "    counts :defaultdict = parse(sample)\n",
    "    return solve(counts,25)\n",
    "\n",
    "def part2(sample=False):\n",
    "    counts :defaultdict = parse(sample)\n",
    "    return solve(counts,75)"
   ]
  },
  {
   "cell_type": "code",
   "execution_count": 141,
   "metadata": {},
   "outputs": [
    {
     "name": "stdout",
     "output_type": "stream",
     "text": [
      "sample: \n",
      "\u001b[32mPart 1 sample is correct.\u001b[0m\n",
      "\u001b[32mPart 2 sample is correct.\u001b[0m\n",
      "Part 1: 55312|Time: 0.001s\n",
      "Part 2: 65601038650482|Time: 0.002s\n",
      "input: \n",
      "Part 1: 209412|Time: 0.005s\n",
      "Part 2: 248967696501656|Time: 0.075s\n"
     ]
    }
   ],
   "source": [
    "from time import time\n",
    "from termcolor import colored\n",
    "import os\n",
    "\n",
    "if __name__ == '__main__':\n",
    "    p1c = 55312\n",
    "    p2c = 65601038650482\n",
    "    print(f'sample: ')\n",
    "    start = time()\n",
    "    p1r = part1(True)\n",
    "    end = time()\n",
    "    p1t = end-start\n",
    "    if p2c:\n",
    "        start = time()\n",
    "        p2r = part2(True)\n",
    "        end = time()\n",
    "        p2t = end-start\n",
    "    if p1c == p1r:\n",
    "        print(colored('Part 1 sample is correct.', 'green'))\n",
    "    else:\n",
    "        print(colored('Part 1 sample is incorrect.', 'red'))\n",
    "    if p2c is None:\n",
    "        print(colored('Part 2 sample is not defined.', 'yellow'))\n",
    "    elif p2c == p2r:\n",
    "        print(colored('Part 2 sample is correct.', 'green'))\n",
    "    else:\n",
    "        print(colored('Part 2 sample is incorrect.', 'red'))\n",
    "    print(f'Part 1: {p1r}|Time: {p1t:.3f}s')\n",
    "    if p2c:\n",
    "        print(f'Part 2: {p2r}|Time: {p2t:.3f}s')\n",
    "    print(f'input: ')\n",
    "    start = time()\n",
    "    p1r = part1(False)\n",
    "    end = time()\n",
    "    p1t = end-start\n",
    "    if p2c:\n",
    "        start = time()\n",
    "        p2r = part2(False)\n",
    "        end = time()\n",
    "        p2t = end-start\n",
    "    print(f'Part 1: {p1r}|Time: {p1t:.3f}s')\n",
    "    if p2c:\n",
    "        print(f'Part 2: {p2r}|Time: {p2t:.3f}s')"
   ]
  }
 ],
 "metadata": {
  "kernelspec": {
   "display_name": "Python 3",
   "language": "python",
   "name": "python3"
  },
  "language_info": {
   "codemirror_mode": {
    "name": "ipython",
    "version": 3
   },
   "file_extension": ".py",
   "mimetype": "text/x-python",
   "name": "python",
   "nbconvert_exporter": "python",
   "pygments_lexer": "ipython3",
   "version": "3.10.12"
  }
 },
 "nbformat": 4,
 "nbformat_minor": 2
}
